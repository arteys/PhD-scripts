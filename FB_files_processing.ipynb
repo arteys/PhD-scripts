{
 "cells": [
  {
   "cell_type": "code",
   "execution_count": 2,
   "metadata": {},
   "outputs": [],
   "source": [
    "import pandas as pd\n",
    "import matplotlib as plt\n",
    "import numpy as np\n",
    "import seaborn as sns"
   ]
  },
  {
   "cell_type": "code",
   "execution_count": 3,
   "metadata": {},
   "outputs": [],
   "source": [
    "data_path = \"C:/Users/Modern/Мой диск/Диссертация/Data/Faraday balance/membrane_1061120 2.dat\""
   ]
  },
  {
   "cell_type": "code",
   "execution_count": 10,
   "metadata": {},
   "outputs": [
    {
     "name": "stdout",
     "output_type": "stream",
     "text": [
      "       H      M       T     Mc       emu      Time  RTime\n",
      "0  0.025  0.000  26.991  0.000  0.000994  11:57:45      0\n",
      "1  0.167  0.809  27.042  0.817  1.028000  11:57:47      2\n",
      "2  0.371  2.625  27.017  2.660  1.487000  11:57:49      4\n",
      "3  0.554  4.537  27.017  4.611  1.675000  11:57:51      6\n",
      "4  0.798  6.852  27.042  7.020  1.838000  11:57:53      8\n"
     ]
    }
   ],
   "source": [
    "data_pd = pd.read_csv(data_path, sep = \"\\t\")\n",
    "labels = data_pd.columns() \n",
    "print(labels)"
   ]
  },
  {
   "cell_type": "code",
   "execution_count": null,
   "metadata": {},
   "outputs": [],
   "source": [
    "# data_pd.plot(x=)"
   ]
  }
 ],
 "metadata": {
  "kernelspec": {
   "display_name": "Python 3",
   "language": "python",
   "name": "python3"
  },
  "language_info": {
   "codemirror_mode": {
    "name": "ipython",
    "version": 3
   },
   "file_extension": ".py",
   "mimetype": "text/x-python",
   "name": "python",
   "nbconvert_exporter": "python",
   "pygments_lexer": "ipython3",
   "version": "3.10.8"
  },
  "orig_nbformat": 4,
  "vscode": {
   "interpreter": {
    "hash": "13e9c5cac24578bfd9614f16e8951cfb415c3a08d925a8ccbb65faa83f4b87f5"
   }
  }
 },
 "nbformat": 4,
 "nbformat_minor": 2
}
