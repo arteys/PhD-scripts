{
 "cells": [
  {
   "cell_type": "code",
   "execution_count": 6,
   "metadata": {},
   "outputs": [],
   "source": [
    "import numpy as np\n",
    "import os\n",
    "import pandas as pd\n",
    "import matplotlib.pyplot as plt\n",
    "import seaborn as sns\n",
    "import re\n"
   ]
  },
  {
   "cell_type": "code",
   "execution_count": 7,
   "metadata": {},
   "outputs": [
    {
     "name": "stdout",
     "output_type": "stream",
     "text": [
      "10\n",
      "11\n",
      "12\n",
      "13\n",
      "15\n",
      "1\n",
      "2\n",
      "3\n",
      "4\n",
      "5\n",
      "6\n",
      "7\n",
      "8\n",
      "9\n"
     ]
    }
   ],
   "source": [
    "path_dir = \"C:\\\\Users\\\\Modern\\\\Мой диск\\\\Диссертация\\\\Data\\\\Magnetic field data\\\\Membrane levitating system 2 take\"\n",
    "file_path = \"C:\\\\Users\\\\Modern\\\\Мой диск\\\\Диссертация\\\\Data\\\\Magnetic field data\\\\Membrane levitating system 2 take\\\\1mm.dat\"\n",
    "\n",
    "\n",
    "for address, dirs, files in os.walk(path_dir):\n",
    "    for file in files:\n",
    "        if \".dat\" in str(file):\n",
    "            z = re.search(r'([0-9]+)',file)\n",
    "            z_coord = z[0]\n",
    "            print(z_coord)\n",
    "\n",
    "# field=pd.read_csv(file_path,encoding = 'unicode_escape',delimiter='\\t',names= ['B','x','y'],skiprows=[0])\n",
    "# field_np_1d = field['B'].to_numpy()\n",
    "\n",
    "# field_np = field_np_1d.reshape(21,21)\n",
    "\n",
    "# sns.scatterplot(data=field, x=\"x\", y=\"y\", hue = 'B')\n",
    "# sns.heatmap(data=field_np)\n",
    "# sns.scatterplot(data=field_np)\n",
    "\n",
    "\n",
    "\n"
   ]
  }
 ],
 "metadata": {
  "kernelspec": {
   "display_name": "Python 3",
   "language": "python",
   "name": "python3"
  },
  "language_info": {
   "codemirror_mode": {
    "name": "ipython",
    "version": 3
   },
   "file_extension": ".py",
   "mimetype": "text/x-python",
   "name": "python",
   "nbconvert_exporter": "python",
   "pygments_lexer": "ipython3",
   "version": "3.10.8"
  },
  "orig_nbformat": 4,
  "vscode": {
   "interpreter": {
    "hash": "13e9c5cac24578bfd9614f16e8951cfb415c3a08d925a8ccbb65faa83f4b87f5"
   }
  }
 },
 "nbformat": 4,
 "nbformat_minor": 2
}
