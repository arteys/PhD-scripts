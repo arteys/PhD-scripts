{
 "cells": [
  {
   "cell_type": "code",
   "execution_count": 4,
   "metadata": {},
   "outputs": [],
   "source": [
    "import pandas as pd\n",
    "import matplotlib.pyplot as plt\n",
    "import numpy as np\n",
    "import seaborn as sns\n",
    "from scipy import stats"
   ]
  },
  {
   "cell_type": "code",
   "execution_count": 5,
   "metadata": {},
   "outputs": [],
   "source": [
    "data_path = \"C:/Users/Modern/Мой диск/Диссертация/Data/Faraday balance/FeC 1031221T.csv\""
   ]
  },
  {
   "cell_type": "code",
   "execution_count": 8,
   "metadata": {},
   "outputs": [
    {
     "name": "stdout",
     "output_type": "stream",
     "text": [
      "Index(['27553.304   107.61136551142843'], dtype='object')\n"
     ]
    }
   ],
   "source": [
    "data_pd = pd.read_csv(data_path)\n",
    "labels = data_pd.columns\n",
    "print(labels)"
   ]
  },
  {
   "cell_type": "code",
   "execution_count": 2,
   "metadata": {},
   "outputs": [
    {
     "ename": "NameError",
     "evalue": "name 'pd' is not defined",
     "output_type": "error",
     "traceback": [
      "\u001b[1;31m---------------------------------------------------------------------------\u001b[0m",
      "\u001b[1;31mNameError\u001b[0m                                 Traceback (most recent call last)",
      "Cell \u001b[1;32mIn [2], line 1\u001b[0m\n\u001b[1;32m----> 1\u001b[0m data_pd \u001b[39m=\u001b[39m pd\u001b[39m.\u001b[39mread_csv(data_path, sep \u001b[39m=\u001b[39m \u001b[39m\"\u001b[39m\u001b[39m\\t\u001b[39;00m\u001b[39m\"\u001b[39m)\n\u001b[0;32m      2\u001b[0m labels \u001b[39m=\u001b[39m data_pd\u001b[39m.\u001b[39mcolumns\n\u001b[0;32m      3\u001b[0m \u001b[39mprint\u001b[39m(labels)\n",
      "\u001b[1;31mNameError\u001b[0m: name 'pd' is not defined"
     ]
    }
   ],
   "source": [
    "data_pd = pd.read_csv(data_path, sep = \"\\t\")\n",
    "labels = data_pd.columns\n",
    "print(labels)"
   ]
  },
  {
   "cell_type": "code",
   "execution_count": null,
   "metadata": {},
   "outputs": [],
   "source": [
    "plt.subplots(figsize=(4, 4))\n",
    "ax = sns.scatterplot(data = data_pd, x = 'H', y = \"emu\")\n",
    "# sns.regplot(data = high_field_part, x = 'H', y = \"emu\", scatter=False)\n",
    "sns.lineplot(x=x,y=y, color=\"red\")\n",
    "ax.set(xlabel='Field, KOe', ylabel='Magnetization, emu/g')\n",
    "ax.set_xlim(0, 12)\n",
    "# ax.set_aspect('equal')\n",
    "# plt.show()"
   ]
  }
 ],
 "metadata": {
  "kernelspec": {
   "display_name": "Python 3",
   "language": "python",
   "name": "python3"
  },
  "language_info": {
   "codemirror_mode": {
    "name": "ipython",
    "version": 3
   },
   "file_extension": ".py",
   "mimetype": "text/x-python",
   "name": "python",
   "nbconvert_exporter": "python",
   "pygments_lexer": "ipython3",
   "version": "3.10.8"
  },
  "orig_nbformat": 4,
  "vscode": {
   "interpreter": {
    "hash": "13e9c5cac24578bfd9614f16e8951cfb415c3a08d925a8ccbb65faa83f4b87f5"
   }
  }
 },
 "nbformat": 4,
 "nbformat_minor": 2
}
