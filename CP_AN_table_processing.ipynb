{
 "cells": [
  {
   "cell_type": "code",
   "execution_count": 5,
   "metadata": {},
   "outputs": [],
   "source": [
    "import pandas as pd\n",
    "import seaborn as sns\n",
    "import matplotlib.pyplot as plt\n",
    "import tkinter as tk\n",
    "import tkinter.filedialog as fd\n",
    "import numpy as np"
   ]
  },
  {
   "cell_type": "code",
   "execution_count": 3,
   "metadata": {},
   "outputs": [],
   "source": [
    "def number_type_from_imagename(image_name):\n",
    "    i = 0\n",
    "    for s in image_name:\n",
    "        if(s.isspace())==False:\n",
    "            i=i+1\n",
    "        else:\n",
    "            break\n",
    "\n",
    "    name_and_type = image_name[0:i]\n",
    "\n",
    "    y = 0\n",
    "    for s in name_and_type:\n",
    "        if(s.isdigit()):\n",
    "            y = y+1\n",
    "    \n",
    "\n",
    "    image_number = image_name[0:y]\n",
    "    image_type = image_name[y:i]\n",
    "\n",
    "\n",
    "    return image_number,image_type"
   ]
  },
  {
   "cell_type": "code",
   "execution_count": 6,
   "metadata": {},
   "outputs": [
    {
     "name": "stdout",
     "output_type": "stream",
     "text": [
      "(46392, 18)\n"
     ]
    }
   ],
   "source": [
    "root = tk.Tk()\n",
    "folder_path = fd.askdirectory(parent=root, title='Folder with images')\n",
    "\n",
    "cells_path = folder_path + \"/Cells_detected.csv\"\n",
    "apoptosis_path = folder_path + \"/Apoptotic_Cleared.csv\"\n",
    "necrosis_path = folder_path + \"/Necrotic_Cleared.csv\"\n",
    "an_path = folder_path + \"/Necrotic_Apoptotic_Cells.csv\"\n",
    "\n",
    "cells_df = pd.read_csv(cells_path)\n",
    "apoptosis_df = pd.read_csv(apoptosis_path)\n",
    "necrosis_df = pd.read_csv(necrosis_path)\n",
    "an_df = pd.read_csv(an_path)\n",
    "\n",
    "print(np.shape(cells_df))"
   ]
  }
 ],
 "metadata": {
  "kernelspec": {
   "display_name": "Python 3.10.8 64-bit",
   "language": "python",
   "name": "python3"
  },
  "language_info": {
   "codemirror_mode": {
    "name": "ipython",
    "version": 3
   },
   "file_extension": ".py",
   "mimetype": "text/x-python",
   "name": "python",
   "nbconvert_exporter": "python",
   "pygments_lexer": "ipython3",
   "version": "3.10.8"
  },
  "orig_nbformat": 4,
  "vscode": {
   "interpreter": {
    "hash": "13e9c5cac24578bfd9614f16e8951cfb415c3a08d925a8ccbb65faa83f4b87f5"
   }
  }
 },
 "nbformat": 4,
 "nbformat_minor": 2
}
