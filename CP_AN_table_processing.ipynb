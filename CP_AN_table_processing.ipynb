{
 "cells": [
  {
   "cell_type": "code",
   "execution_count": 5,
   "metadata": {},
   "outputs": [],
   "source": [
    "import pandas as pd\n",
    "import seaborn as sns\n",
    "import matplotlib.pyplot as plt\n",
    "import tkinter as tk\n",
    "import tkinter.filedialog as fd\n",
    "import numpy as np"
   ]
  },
  {
   "cell_type": "code",
   "execution_count": 3,
   "metadata": {},
   "outputs": [],
   "source": [
    "def number_type_from_imagename(image_name):\n",
    "    i = 0\n",
    "    for s in image_name:\n",
    "        if(s.isspace())==False:\n",
    "            i=i+1\n",
    "        else:\n",
    "            break\n",
    "\n",
    "    name_and_type = image_name[0:i]\n",
    "\n",
    "    y = 0\n",
    "    for s in name_and_type:\n",
    "        if(s.isdigit()):\n",
    "            y = y+1\n",
    "    \n",
    "\n",
    "    image_number = image_name[0:y]\n",
    "    image_type = image_name[y:i]\n",
    "\n",
    "\n",
    "    return image_number,image_type"
   ]
  },
  {
   "cell_type": "code",
   "execution_count": 6,
   "metadata": {},
   "outputs": [
    {
     "name": "stdout",
     "output_type": "stream",
     "text": [
      "(46392, 18)\n"
     ]
    }
   ],
   "source": [
    "root = tk.Tk()\n",
    "folder_path = fd.askdirectory(parent=root, title='Folder with images')\n",
    "\n",
    "cells_path = folder_path + \"/Cells_detected.csv\"\n",
    "apoptosis_path = folder_path + \"/Apoptotic_Cleared.csv\"\n",
    "necrosis_path = folder_path + \"/Necrotic_Cleared.csv\"\n",
    "an_path = folder_path + \"/Necrotic_Apoptotic_Cells.csv\"\n",
    "\n",
    "cells_df = pd.read_csv(cells_path)\n",
    "apoptosis_df = pd.read_csv(apoptosis_path)\n",
    "necrosis_df = pd.read_csv(necrosis_path)\n",
    "an_df = pd.read_csv(an_path)\n",
    "\n",
    "print(np.shape(cells_df))"
   ]
  },
  {
   "cell_type": "code",
   "execution_count": 7,
   "metadata": {},
   "outputs": [],
   "source": [
    "image_names = pd.unique(cells_df.loc[:,\"FileName_Original\"]) #Extract unique names of images\n",
    "\n",
    "\n",
    "result_df = pd.DataFrame({'Image number':[], 'Image name':[], 'Image type':[], 'N Cells':[], 'N Apoptotic':[], 'N Necrotic':[], 'N NA':[]})\n",
    "result_df_sns = pd.DataFrame({'Image type':[], 'Cells type':[], 'Cells number':[]})\n",
    "result_df_sns_norm = pd.DataFrame({'Image type':[], 'Cells type':[], 'Cells number':[]})\n",
    "\n",
    "for name in image_names:\n",
    "    cells_df_current = cells_df.loc[cells_df[\"FileName_Original\"] == name] #Extract all rows with same image name\n",
    "    apoptosis_df_current = apoptosis_df.loc[apoptosis_df[\"FileName_Original\"] == name]\n",
    "    necrosis_df_current = necrosis_df.loc[necrosis_df[\"FileName_Original\"] == name]\n",
    "    an_df_current = an_df.loc[an_df[\"FileName_Original\"] == name]\n",
    "\n",
    "    apoptosis_number = apoptosis_df_current.shape[0]\n",
    "    necrosis_number = necrosis_df_current.shape[0]\n",
    "    an_number = an_df_current.shape[0]\n",
    "    all_cells_number = cells_df_current.shape[0] #Count number of rows with same image name\n",
    "\n",
    "    normal_cells_number = all_cells_number - an_number - necrosis_number - apoptosis_number\n",
    "\n",
    "    an_number_norm = an_number/all_cells_number*100\n",
    "    necrosis_number_norm = necrosis_number/all_cells_number*100\n",
    "    apoptosis_number_norm = apoptosis_number/all_cells_number*100\n",
    "    normal_cells_number_norm = normal_cells_number/all_cells_number*100\n",
    "\n",
    "    # Extract original image number from image name\n",
    "    image_number,image_type = number_type_from_imagename(name)\n",
    "\n",
    "    #Create df with current data \n",
    "    # result_current =  pd.DataFrame({'Image number':[image_number], 'Image name':[name],'Image type':[image_type], 'N Cells':[all_cells_number], 'N Apoptotic':[apoptosis_number], \n",
    "    #     'N Necrotic':[necrosis_number], 'N NA':[an_number]})\n",
    "\n",
    "    current_df_sns = pd.DataFrame({'Image number':[image_number,image_number,image_number,image_number], 'Image type':[image_type,image_type,image_type,image_type], 'Type':[\"Normal Cells\",\"Apoptotic\",\"Late Apoptotic\",\"Necrotic\"],\n",
    "        'Cells number':[normal_cells_number,apoptosis_number,an_number,necrosis_number]})\n",
    "\n",
    "    current_df_sns_normalized = pd.DataFrame({'Image number':[image_number,image_number,image_number,image_number], 'Image type':[image_type,image_type,image_type,image_type], 'Type':[\"Normal Cells\",\"Apoptotic\",\"Late Apoptotic\",\"Necrotic\"],\n",
    "        'Cells number':[normal_cells_number_norm,apoptosis_number_norm,an_number_norm,necrosis_number_norm]})\n",
    "\n",
    "    #Append current data to result df\n",
    "    # result_df = result_df.append(result_current)\n",
    "    # result_df = pd.concat([result_current, result_df])\n",
    "    result_df_sns = pd.concat([current_df_sns,result_df_sns])\n",
    "\n",
    "    result_df_sns_norm = pd.concat([current_df_sns_normalized,result_df_sns_norm])"
   ]
  },
  {
   "cell_type": "code",
   "execution_count": 8,
   "metadata": {},
   "outputs": [
    {
     "data": {
      "image/png": "[encoded data removed]",
      "text/plain": [
       "<Figure size 640x480 with 1 Axes>"
      ]
     },
     "metadata": {},
     "output_type": "display_data"
    }
   ],
   "source": [
    "sns.barplot(data=result_df_sns, x=\"Image type\", y=\"Cells number\", hue = 'Type', errorbar = 'sd')\n",
    "plt.show()"
   ]
  }
 ],
 "metadata": {
  "kernelspec": {
   "display_name": "Python 3.10.8 64-bit",
   "language": "python",
   "name": "python3"
  },
  "language_info": {
   "codemirror_mode": {
    "name": "ipython",
    "version": 3
   },
   "file_extension": ".py",
   "mimetype": "text/x-python",
   "name": "python",
   "nbconvert_exporter": "python",
   "pygments_lexer": "ipython3",
   "version": "3.10.8"
  },
  "orig_nbformat": 4,
  "vscode": {
   "interpreter": {
    "hash": "13e9c5cac24578bfd9614f16e8951cfb415c3a08d925a8ccbb65faa83f4b87f5"
   }
  }
 },
 "nbformat": 4,
 "nbformat_minor": 2
}
