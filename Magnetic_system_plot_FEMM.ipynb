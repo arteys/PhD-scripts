{
 "cells": [
  {
   "cell_type": "code",
   "execution_count": 1,
   "metadata": {},
   "outputs": [],
   "source": [
    "import pandas as pd\n",
    "import matplotlib.pyplot as plt\n",
    "import numpy as np\n",
    "import seaborn as sns\n",
    "from scipy import stats"
   ]
  },
  {
   "cell_type": "code",
   "execution_count": 2,
   "metadata": {},
   "outputs": [],
   "source": [
    "magnet_r_path = \"C:/Users/Modern/Мой диск/Диссертация/Data/Magnetic system/Magnet R-gradient.txt\"\n",
    "magnet_z_path = \"C:/Users/Modern/Мой диск/Диссертация/Data/Magnetic system/Magnet Z-gradient.txt\"\n",
    "magnet_bar_r_path = \"C:/Users/Modern/Мой диск/Диссертация/Data/Magnetic system/Magnet, bar R-gradient.txt\"\n",
    "magnet_bar_z_path = \"C:/Users/Modern/Мой диск/Диссертация/Data/Magnetic system/Magnet, bar Z-gradient.txt\"\n",
    "magnet_bar_conc_r_path = \"C:/Users/Modern/Мой диск/Диссертация/Data/Magnetic system/Magnet, bar, conc R-gradient.txt\"\n",
    "magnet_bar_conc_z_path = \"C:/Users/Modern/Мой диск/Диссертация/Data/Magnetic system/Magnet, bar, conc Z-gradient.txt\""
   ]
  },
  {
   "cell_type": "code",
   "execution_count": null,
   "metadata": {},
   "outputs": [],
   "source": []
  }
 ],
 "metadata": {
  "kernelspec": {
   "display_name": "Python 3",
   "language": "python",
   "name": "python3"
  },
  "language_info": {
   "codemirror_mode": {
    "name": "ipython",
    "version": 3
   },
   "file_extension": ".py",
   "mimetype": "text/x-python",
   "name": "python",
   "nbconvert_exporter": "python",
   "pygments_lexer": "ipython3",
   "version": "3.10.8"
  },
  "orig_nbformat": 4,
  "vscode": {
   "interpreter": {
    "hash": "13e9c5cac24578bfd9614f16e8951cfb415c3a08d925a8ccbb65faa83f4b87f5"
   }
  }
 },
 "nbformat": 4,
 "nbformat_minor": 2
}
